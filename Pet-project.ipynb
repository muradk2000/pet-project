{
 "cells": [
  {
   "cell_type": "markdown",
   "id": "98c4121e",
   "metadata": {},
   "source": [
    "# Анализ поведения покупателей в многокатегорийном интернет-магазине\n",
    "\n",
    "## Цели проекта\n",
    "В этом проекте мы будем анализировать данные пользователей интернет-магазина с целью:\n",
    "1. Определить ключевые метрики, такие как активность пользователей, конверсия и популярность категорий товаров.\n",
    "2. Провести исследовательский анализ данных (EDA), чтобы выявить паттерны поведения покупателей.\n",
    "3. Сформулировать гипотезы для повышения конверсии.\n",
    "4. Проверить гипотезы\n",
    "\n",
    "## Задачи:\n",
    "- Загрузить и очистить данные.\n",
    "- Провести исследовательский анализ данных.\n",
    "- Построить графики активности пользователей.\n",
    "- Проверить гипотезы."
   ]
  },
  {
   "cell_type": "markdown",
   "id": "5ca38d5d",
   "metadata": {},
   "source": [
    "# Шаг 1: Загрузка и исследование данных"
   ]
  },
  {
   "cell_type": "markdown",
   "id": "14dfb176",
   "metadata": {},
   "source": [
    "## Импорт данных\n",
    "В этом шаге загружаем и проверяем данные на наличие пропусков и дубликатов.\n"
   ]
  },
  {
   "cell_type": "code",
   "execution_count": 57,
   "id": "f14cb9d3",
   "metadata": {},
   "outputs": [],
   "source": [
    "import pandas as pd\n",
    "import matplotlib.pyplot as plt\n",
    "import seaborn as sns\n",
    "import numpy as np\n",
    "from scipy import stats\n",
    "import statsmodels.api as sm"
   ]
  },
  {
   "cell_type": "code",
   "execution_count": 32,
   "id": "fb604b7c",
   "metadata": {},
   "outputs": [],
   "source": [
    "file_path = 'C:/Users/ASUS/Desktop/2019-Nov.csv' \n",
    "df = pd.read_csv(file_path)"
   ]
  },
  {
   "cell_type": "code",
   "execution_count": 33,
   "id": "97b99024",
   "metadata": {},
   "outputs": [
    {
     "data": {
      "text/html": [
       "<div>\n",
       "<style scoped>\n",
       "    .dataframe tbody tr th:only-of-type {\n",
       "        vertical-align: middle;\n",
       "    }\n",
       "\n",
       "    .dataframe tbody tr th {\n",
       "        vertical-align: top;\n",
       "    }\n",
       "\n",
       "    .dataframe thead th {\n",
       "        text-align: right;\n",
       "    }\n",
       "</style>\n",
       "<table border=\"1\" class=\"dataframe\">\n",
       "  <thead>\n",
       "    <tr style=\"text-align: right;\">\n",
       "      <th></th>\n",
       "      <th>event_time</th>\n",
       "      <th>event_type</th>\n",
       "      <th>product_id</th>\n",
       "      <th>category_id</th>\n",
       "      <th>category_code</th>\n",
       "      <th>brand</th>\n",
       "      <th>price</th>\n",
       "      <th>user_id</th>\n",
       "      <th>user_session</th>\n",
       "    </tr>\n",
       "  </thead>\n",
       "  <tbody>\n",
       "    <tr>\n",
       "      <th>0</th>\n",
       "      <td>2019-11-01 00:00:00 UTC</td>\n",
       "      <td>view</td>\n",
       "      <td>1003461</td>\n",
       "      <td>2053013555631882655</td>\n",
       "      <td>electronics.smartphone</td>\n",
       "      <td>xiaomi</td>\n",
       "      <td>489.07</td>\n",
       "      <td>520088904</td>\n",
       "      <td>4d3b30da-a5e4-49df-b1a8-ba5943f1dd33</td>\n",
       "    </tr>\n",
       "    <tr>\n",
       "      <th>1</th>\n",
       "      <td>2019-11-01 00:00:00 UTC</td>\n",
       "      <td>view</td>\n",
       "      <td>5000088</td>\n",
       "      <td>2053013566100866035</td>\n",
       "      <td>appliances.sewing_machine</td>\n",
       "      <td>janome</td>\n",
       "      <td>293.65</td>\n",
       "      <td>530496790</td>\n",
       "      <td>8e5f4f83-366c-4f70-860e-ca7417414283</td>\n",
       "    </tr>\n",
       "    <tr>\n",
       "      <th>2</th>\n",
       "      <td>2019-11-01 00:00:01 UTC</td>\n",
       "      <td>view</td>\n",
       "      <td>17302664</td>\n",
       "      <td>2053013553853497655</td>\n",
       "      <td>NaN</td>\n",
       "      <td>creed</td>\n",
       "      <td>28.31</td>\n",
       "      <td>561587266</td>\n",
       "      <td>755422e7-9040-477b-9bd2-6a6e8fd97387</td>\n",
       "    </tr>\n",
       "    <tr>\n",
       "      <th>3</th>\n",
       "      <td>2019-11-01 00:00:01 UTC</td>\n",
       "      <td>view</td>\n",
       "      <td>3601530</td>\n",
       "      <td>2053013563810775923</td>\n",
       "      <td>appliances.kitchen.washer</td>\n",
       "      <td>lg</td>\n",
       "      <td>712.87</td>\n",
       "      <td>518085591</td>\n",
       "      <td>3bfb58cd-7892-48cc-8020-2f17e6de6e7f</td>\n",
       "    </tr>\n",
       "    <tr>\n",
       "      <th>4</th>\n",
       "      <td>2019-11-01 00:00:01 UTC</td>\n",
       "      <td>view</td>\n",
       "      <td>1004775</td>\n",
       "      <td>2053013555631882655</td>\n",
       "      <td>electronics.smartphone</td>\n",
       "      <td>xiaomi</td>\n",
       "      <td>183.27</td>\n",
       "      <td>558856683</td>\n",
       "      <td>313628f1-68b8-460d-84f6-cec7a8796ef2</td>\n",
       "    </tr>\n",
       "  </tbody>\n",
       "</table>\n",
       "</div>"
      ],
      "text/plain": [
       "                event_time event_type  product_id          category_id  \\\n",
       "0  2019-11-01 00:00:00 UTC       view     1003461  2053013555631882655   \n",
       "1  2019-11-01 00:00:00 UTC       view     5000088  2053013566100866035   \n",
       "2  2019-11-01 00:00:01 UTC       view    17302664  2053013553853497655   \n",
       "3  2019-11-01 00:00:01 UTC       view     3601530  2053013563810775923   \n",
       "4  2019-11-01 00:00:01 UTC       view     1004775  2053013555631882655   \n",
       "\n",
       "               category_code   brand   price    user_id  \\\n",
       "0     electronics.smartphone  xiaomi  489.07  520088904   \n",
       "1  appliances.sewing_machine  janome  293.65  530496790   \n",
       "2                        NaN   creed   28.31  561587266   \n",
       "3  appliances.kitchen.washer      lg  712.87  518085591   \n",
       "4     electronics.smartphone  xiaomi  183.27  558856683   \n",
       "\n",
       "                           user_session  \n",
       "0  4d3b30da-a5e4-49df-b1a8-ba5943f1dd33  \n",
       "1  8e5f4f83-366c-4f70-860e-ca7417414283  \n",
       "2  755422e7-9040-477b-9bd2-6a6e8fd97387  \n",
       "3  3bfb58cd-7892-48cc-8020-2f17e6de6e7f  \n",
       "4  313628f1-68b8-460d-84f6-cec7a8796ef2  "
      ]
     },
     "execution_count": 33,
     "metadata": {},
     "output_type": "execute_result"
    }
   ],
   "source": [
    "# Первичный осмотр данных\n",
    "df.head()"
   ]
  },
  {
   "cell_type": "code",
   "execution_count": 34,
   "id": "81ea435d",
   "metadata": {},
   "outputs": [
    {
     "name": "stdout",
     "output_type": "stream",
     "text": [
      "<class 'pandas.core.frame.DataFrame'>\n",
      "RangeIndex: 67501979 entries, 0 to 67501978\n",
      "Data columns (total 9 columns):\n",
      " #   Column         Dtype  \n",
      "---  ------         -----  \n",
      " 0   event_time     object \n",
      " 1   event_type     object \n",
      " 2   product_id     int64  \n",
      " 3   category_id    int64  \n",
      " 4   category_code  object \n",
      " 5   brand          object \n",
      " 6   price          float64\n",
      " 7   user_id        int64  \n",
      " 8   user_session   object \n",
      "dtypes: float64(1), int64(3), object(5)\n",
      "memory usage: 4.5+ GB\n"
     ]
    }
   ],
   "source": [
    "# Информация о данных\n",
    "df.info()"
   ]
  },
  {
   "cell_type": "code",
   "execution_count": 35,
   "id": "5ca50f5c",
   "metadata": {},
   "outputs": [
    {
     "data": {
      "text/plain": [
       "event_time              0\n",
       "event_type              0\n",
       "product_id              0\n",
       "category_id             0\n",
       "category_code    21898171\n",
       "brand             9224078\n",
       "price                   0\n",
       "user_id                 0\n",
       "user_session           10\n",
       "dtype: int64"
      ]
     },
     "execution_count": 35,
     "metadata": {},
     "output_type": "execute_result"
    }
   ],
   "source": [
    "# Количество пропусков в данных:\n",
    "df.isnull().sum()"
   ]
  },
  {
   "cell_type": "code",
   "execution_count": 36,
   "id": "798d1eb2",
   "metadata": {},
   "outputs": [
    {
     "data": {
      "text/plain": [
       "100519"
      ]
     },
     "execution_count": 36,
     "metadata": {},
     "output_type": "execute_result"
    }
   ],
   "source": [
    "# Проверка на дубликаты:\n",
    "df.duplicated().sum()"
   ]
  },
  {
   "cell_type": "markdown",
   "id": "b247d620",
   "metadata": {},
   "source": []
  },
  {
   "cell_type": "markdown",
   "id": "236b737b",
   "metadata": {},
   "source": [
    "Мы загрузили датасет, проверили его на наличие пропусков и дубликатов. В колонках category_code и brand есть значительное количество пропусков, а также обнаружено более 100 тысяч дубликатов. Можно приступать к очистке данных."
   ]
  },
  {
   "cell_type": "markdown",
   "id": "2ee1a95c",
   "metadata": {},
   "source": [
    "#     Шаг 2: Очистка данных"
   ]
  },
  {
   "cell_type": "code",
   "execution_count": 37,
   "id": "a2255072",
   "metadata": {},
   "outputs": [],
   "source": [
    "# Удаление дубликатов\n",
    "df = df.drop_duplicates()"
   ]
  },
  {
   "cell_type": "code",
   "execution_count": 38,
   "id": "1b061a4b",
   "metadata": {},
   "outputs": [],
   "source": [
    "# Заменяем пропуски в category_code на 'unknown_category'\n",
    "df['category_code'] = df['category_code'].fillna('unknown_category')"
   ]
  },
  {
   "cell_type": "code",
   "execution_count": 39,
   "id": "e6006e51",
   "metadata": {},
   "outputs": [],
   "source": [
    "# Заменяем пропуски в brand на 'unknown_brand'\n",
    "df['brand'] = df['brand'].fillna('unknown_brand')"
   ]
  },
  {
   "cell_type": "code",
   "execution_count": 40,
   "id": "c814fde9",
   "metadata": {},
   "outputs": [],
   "source": [
    "# Удаляем строки с пропусками в user_session, так как их всего 10\n",
    "df = df.dropna(subset=['user_session'])"
   ]
  },
  {
   "cell_type": "code",
   "execution_count": 41,
   "id": "9ab2df3a",
   "metadata": {},
   "outputs": [
    {
     "data": {
      "text/plain": [
       "event_time       0\n",
       "event_type       0\n",
       "product_id       0\n",
       "category_id      0\n",
       "category_code    0\n",
       "brand            0\n",
       "price            0\n",
       "user_id          0\n",
       "user_session     0\n",
       "dtype: int64"
      ]
     },
     "execution_count": 41,
     "metadata": {},
     "output_type": "execute_result"
    }
   ],
   "source": [
    "# Проверяем результат\n",
    "df.isnull().sum()"
   ]
  },
  {
   "cell_type": "code",
   "execution_count": null,
   "id": "4700251d",
   "metadata": {},
   "outputs": [],
   "source": []
  },
  {
   "cell_type": "markdown",
   "id": "845970e4",
   "metadata": {},
   "source": [
    "# Шаг 3: Исследовательский анализ данных (EDA)"
   ]
  },
  {
   "cell_type": "markdown",
   "id": "233b702c",
   "metadata": {},
   "source": [
    "### 1. Анализ активности пользователей во времени:\n",
    "Посмотрим, как распределяются события (например, клики, заказы) по времени, чтобы понять пики активности."
   ]
  },
  {
   "cell_type": "code",
   "execution_count": 43,
   "id": "a9f4098f",
   "metadata": {},
   "outputs": [],
   "source": [
    "# Преобразуем 'event_time' в формат даты и времени\n",
    "df['event_time'] = pd.to_datetime(df['event_time'])"
   ]
  },
  {
   "cell_type": "code",
   "execution_count": 44,
   "id": "7de2dad0",
   "metadata": {},
   "outputs": [],
   "source": [
    "# Добавим колонку с датой без времени\n",
    "df['event_date'] = df['event_time'].dt.date"
   ]
  },
  {
   "cell_type": "code",
   "execution_count": 45,
   "id": "3c34feba",
   "metadata": {},
   "outputs": [],
   "source": [
    "# Группируем события по дате\n",
    "event_counts = df.groupby('event_date').size()"
   ]
  },
  {
   "cell_type": "code",
   "execution_count": 46,
   "id": "39587866",
   "metadata": {},
   "outputs": [
    {
     "data": {
      "image/png": "[encoded data removed]",
      "text/plain": [
       "<Figure size 1000x600 with 1 Axes>"
      ]
     },
     "metadata": {},
     "output_type": "display_data"
    }
   ],
   "source": [
    "# Строим график активности\n",
    "plt.figure(figsize=(10,6))\n",
    "sns.lineplot(data=event_counts)\n",
    "plt.title('Активность пользователей по дням')\n",
    "plt.ylabel('Количество событий')\n",
    "plt.xlabel('Дата')\n",
    "plt.xticks(rotation=45)\n",
    "plt.show()"
   ]
  },
  {
   "cell_type": "markdown",
   "id": "c0f9b01d",
   "metadata": {},
   "source": [
    "Активность пользователей показывает заметные колебания. С 1 по 13 ноября активность находилась на низком уровне, затем наблюдается пик с 13 по 17 ноября, после чего активность снова снижается. Это может свидетельствовать о том, что в эти дни проходила акция или распродажа, привлекающая большее количество пользователей."
   ]
  },
  {
   "cell_type": "markdown",
   "id": "e208cc13",
   "metadata": {},
   "source": []
  },
  {
   "cell_type": "markdown",
   "id": "79c837c0",
   "metadata": {},
   "source": [
    "### 2. Анализ популярных категорий товаров:\n",
    "Мы можем посмотреть, какие категории товаров наиболее часто просматриваются или заказываются."
   ]
  },
  {
   "cell_type": "code",
   "execution_count": 47,
   "id": "302d87fb",
   "metadata": {},
   "outputs": [],
   "source": [
    "# Группировка по категориям и типам событий\n",
    "category_counts = df.groupby(['category_code', 'event_type']).size().unstack()"
   ]
  },
  {
   "cell_type": "code",
   "execution_count": 48,
   "id": "6a936510",
   "metadata": {},
   "outputs": [],
   "source": [
    "# Выбираем топ-10 популярных категорий\n",
    "top_categories = category_counts.sum(axis=1).nlargest(10)"
   ]
  },
  {
   "cell_type": "code",
   "execution_count": 49,
   "id": "5c098b7b",
   "metadata": {},
   "outputs": [
    {
     "data": {
      "image/png": "[encoded data removed]",
      "text/plain": [
       "<Figure size 1000x600 with 1 Axes>"
      ]
     },
     "metadata": {},
     "output_type": "display_data"
    }
   ],
   "source": [
    "# Строим график для топ-10 категорий\n",
    "plt.figure(figsize=(10,6))\n",
    "sns.barplot(x=top_categories.values, y=top_categories.index)\n",
    "plt.title('Топ-10 категорий по количеству событий')\n",
    "plt.xlabel('Количество событий')\n",
    "plt.ylabel('Категория')\n",
    "plt.show()"
   ]
  },
  {
   "cell_type": "markdown",
   "id": "9b03e2d0",
   "metadata": {},
   "source": [
    "Высокий уровень записей с категорией unknown_category может свидетельствовать о проблемах с качеством данных. Это может быть вызвано отсутствием информации о категориях товаров или ошибками при их загрузке. Следующая по популярности категория — electronics.smartphone (1.7 миллиона событий), что отражает высокий интерес пользователей к смартфонам. По причине высокого unknown_category, выводы о категориях становятся менее достоверными."
   ]
  },
  {
   "cell_type": "raw",
   "id": "76cfeca3",
   "metadata": {},
   "source": []
  },
  {
   "cell_type": "markdown",
   "id": "668b649c",
   "metadata": {},
   "source": [
    "### 3. Анализ конверсии пользователей:\n",
    "Посмотрим на конверсию — сколько пользователей переходит от просмотров к заказам."
   ]
  },
  {
   "cell_type": "code",
   "execution_count": 50,
   "id": "96bcea1d",
   "metadata": {},
   "outputs": [],
   "source": [
    "# Количество уникальных пользователей, которые совершали каждый тип события\n",
    "conversion_funnel = df.groupby('event_type')['user_id'].nunique()"
   ]
  },
  {
   "cell_type": "code",
   "execution_count": 51,
   "id": "2ad17789",
   "metadata": {},
   "outputs": [
    {
     "data": {
      "image/png": "[encoded data removed]",
      "text/plain": [
       "<Figure size 800x500 with 1 Axes>"
      ]
     },
     "metadata": {},
     "output_type": "display_data"
    }
   ],
   "source": [
    "# Строим воронку конверсии\n",
    "plt.figure(figsize=(8,5))\n",
    "sns.barplot(x=conversion_funnel.index, y=conversion_funnel.values)\n",
    "plt.title('Воронка конверсии пользователей')\n",
    "plt.ylabel('Количество уникальных пользователей')\n",
    "plt.show()"
   ]
  },
  {
   "cell_type": "markdown",
   "id": "103887a1",
   "metadata": {},
   "source": [
    "Количество событий показывает, что лишь небольшая часть пользователей переходит от просмотра товаров к добавлению их в корзину, и еще меньшая доля совершает покупку. Улучшение конверсии между этими этапами может значительно повысить продажи и стать целью для дальнейшего анализа и экспериментов."
   ]
  },
  {
   "cell_type": "markdown",
   "id": "209f9efe",
   "metadata": {},
   "source": [
    "# Шаг 4: Построение гипотез"
   ]
  },
  {
   "cell_type": "markdown",
   "id": "8a76e52c",
   "metadata": {},
   "source": [
    "Мы можем проверить несколько гипотез, основанных на анализе данных о поведении пользователей.\n",
    "\n",
    "1. Гипотеза о кросс-продажах: предполагается, что пользователи, добавляющие товары из разных категорий в корзину, имеют более высокую склонность к покупке по сравнению с теми, кто ограничивается товарами из одной категории. Мы будем измерять конверсию пользователей с многокатегорийными корзинами и сравнивать её с конверсией пользователей, добавляющих товары из одной категории.\n",
    "\n",
    "2. Гипотеза о частоте взаимодействия: мы предполагаем, что пользователи, активно взаимодействующие с контентом (например, кликами и просмотрами), имеют более высокую конверсию. Для проверки этой гипотезы мы рассчитаем количество взаимодействий для каждого пользователя и сравним его с уровнем конверсии.\n",
    "\n",
    "3. Гипотеза о категориях товаров: некоторые категории могут демонстрировать более высокий коэффициент конверсии. Мы рассчитаем конверсию для каждой категории и выявим наиболее успешные.\n",
    "\n",
    "4. Гипотеза о возвращающихся пользователях: предполагается, что возвращающиеся пользователи имеют более высокий уровень конверсии по сравнению с новыми. Мы сравним уровень конверсии для новых и возвращающихся пользователей."
   ]
  },
  {
   "cell_type": "markdown",
   "id": "a0c15d6e",
   "metadata": {},
   "source": [
    "# Шаг 5: Проверка гипотез\n",
    "На этом этапе мы проверим наши гипотезы, используя различные методы. "
   ]
  },
  {
   "cell_type": "code",
   "execution_count": 81,
   "id": "48bbb9cd",
   "metadata": {},
   "outputs": [],
   "source": [
    "data = df.sample(frac=0.1, random_state=42)"
   ]
  },
  {
   "cell_type": "markdown",
   "id": "1c5c0a69",
   "metadata": {},
   "source": [
    "### 1. Когортный анализ: Гипотеза о кросс-продажах"
   ]
  },
  {
   "cell_type": "code",
   "execution_count": 82,
   "id": "6450baa3",
   "metadata": {},
   "outputs": [
    {
     "name": "stdout",
     "output_type": "stream",
     "text": [
      "_merge\n",
      "left_only     253138\n",
      "both           89491\n",
      "right_only         0\n",
      "Name: count, dtype: int64\n",
      "_merge\n",
      "both          2284\n",
      "left_only     1978\n",
      "right_only       0\n",
      "Name: count, dtype: int64\n",
      "Конверсия для одной категории: 0.2611892163243625\n",
      "Конверсия для нескольких категорий: 0.5358986391365556\n"
     ]
    }
   ],
   "source": [
    "# Фильтруем события только по добавлению в корзину и покупкам\n",
    "cart_events = data[data['event_type'].isin(['cart', 'purchase'])]\n",
    "\n",
    "# Считаем уникальные категории для каждого пользователя и сессии\n",
    "user_categories = cart_events.groupby(['user_id', 'user_session'])['category_code'].nunique().reset_index()\n",
    "user_categories.columns = ['user_id', 'user_session', 'num_categories']\n",
    "\n",
    "# Разделяем пользователей на две группы: добавляющие товары из одной категории и из нескольких\n",
    "single_category = user_categories[user_categories['num_categories'] == 1]\n",
    "multi_category = user_categories[user_categories['num_categories'] > 1]\n",
    "\n",
    "# Объединяем данные о добавленных в корзину товарах с покупками\n",
    "single_category_merged = single_category.merge(\n",
    "    cart_events[cart_events['event_type'] == 'purchase'][['user_id', 'user_session']],\n",
    "    on=['user_id', 'user_session'],\n",
    "    how='left', indicator=True\n",
    ")\n",
    "\n",
    "multi_category_merged = multi_category.merge(\n",
    "    cart_events[cart_events['event_type'] == 'purchase'][['user_id', 'user_session']],\n",
    "    on=['user_id', 'user_session'],\n",
    "    how='left', indicator=True\n",
    ")\n",
    "\n",
    "# Проверим, какие значения присутствуют в столбце _merge\n",
    "print(single_category_merged['_merge'].value_counts())\n",
    "print(multi_category_merged['_merge'].value_counts())\n",
    "\n",
    "# Теперь считаем конверсию для каждой группы: 'both' означает, что сессия была и с добавлением в корзину, и с покупкой\n",
    "single_category_conversion = (single_category_merged['_merge'] == 'both').mean()\n",
    "multi_category_conversion = (multi_category_merged['_merge'] == 'both').mean()\n",
    "\n",
    "# Вывод конверсий\n",
    "print(f'Конверсия для одной категории: {single_category_conversion}')\n",
    "print(f'Конверсия для нескольких категорий: {multi_category_conversion}')\n"
   ]
  },
  {
   "cell_type": "code",
   "execution_count": 98,
   "id": "bbf180f1",
   "metadata": {},
   "outputs": [
    {
     "data": {
      "text/html": [
       "<div>\n",
       "<style scoped>\n",
       "    .dataframe tbody tr th:only-of-type {\n",
       "        vertical-align: middle;\n",
       "    }\n",
       "\n",
       "    .dataframe tbody tr th {\n",
       "        vertical-align: top;\n",
       "    }\n",
       "\n",
       "    .dataframe thead th {\n",
       "        text-align: right;\n",
       "    }\n",
       "</style>\n",
       "<table border=\"1\" class=\"dataframe\">\n",
       "  <thead>\n",
       "    <tr style=\"text-align: right;\">\n",
       "      <th></th>\n",
       "      <th>user_id</th>\n",
       "      <th>user_session</th>\n",
       "      <th>num_categories</th>\n",
       "    </tr>\n",
       "  </thead>\n",
       "  <tbody>\n",
       "    <tr>\n",
       "      <th>0</th>\n",
       "      <td>128968633</td>\n",
       "      <td>02cb7aa7-712e-49e9-aa86-e4368d1467ac</td>\n",
       "      <td>1</td>\n",
       "    </tr>\n",
       "    <tr>\n",
       "      <th>1</th>\n",
       "      <td>239198635</td>\n",
       "      <td>23014d2e-0647-4c12-af4b-aa13f738bbd3</td>\n",
       "      <td>1</td>\n",
       "    </tr>\n",
       "    <tr>\n",
       "      <th>2</th>\n",
       "      <td>251171183</td>\n",
       "      <td>c20b53ef-621c-407e-a895-940ca595d1c1</td>\n",
       "      <td>1</td>\n",
       "    </tr>\n",
       "    <tr>\n",
       "      <th>3</th>\n",
       "      <td>269003139</td>\n",
       "      <td>29f24176-f471-4236-bbe8-6ca94d5ecfaf</td>\n",
       "      <td>1</td>\n",
       "    </tr>\n",
       "    <tr>\n",
       "      <th>4</th>\n",
       "      <td>269597875</td>\n",
       "      <td>2073cf27-0b3f-41dc-8f75-5e1e689ba1a8</td>\n",
       "      <td>1</td>\n",
       "    </tr>\n",
       "    <tr>\n",
       "      <th>...</th>\n",
       "      <td>...</td>\n",
       "      <td>...</td>\n",
       "      <td>...</td>\n",
       "    </tr>\n",
       "    <tr>\n",
       "      <th>344752</th>\n",
       "      <td>579944616</td>\n",
       "      <td>c4dfaee3-e939-49f5-bcc4-f8674841739a</td>\n",
       "      <td>1</td>\n",
       "    </tr>\n",
       "    <tr>\n",
       "      <th>344753</th>\n",
       "      <td>579944655</td>\n",
       "      <td>f3521ead-f9d7-40dc-a6d5-75ffd8737789</td>\n",
       "      <td>1</td>\n",
       "    </tr>\n",
       "    <tr>\n",
       "      <th>344754</th>\n",
       "      <td>579946501</td>\n",
       "      <td>4f2fb970-3328-471c-a074-956517ac809d</td>\n",
       "      <td>1</td>\n",
       "    </tr>\n",
       "    <tr>\n",
       "      <th>344755</th>\n",
       "      <td>579957748</td>\n",
       "      <td>8d1e0711-1d15-40d6-9fa5-a660d168d95d</td>\n",
       "      <td>1</td>\n",
       "    </tr>\n",
       "    <tr>\n",
       "      <th>344756</th>\n",
       "      <td>579962964</td>\n",
       "      <td>e4142ff0-90a2-4fd8-afc5-bec0ba471b03</td>\n",
       "      <td>1</td>\n",
       "    </tr>\n",
       "  </tbody>\n",
       "</table>\n",
       "<p>341127 rows × 3 columns</p>\n",
       "</div>"
      ],
      "text/plain": [
       "          user_id                          user_session  num_categories\n",
       "0       128968633  02cb7aa7-712e-49e9-aa86-e4368d1467ac               1\n",
       "1       239198635  23014d2e-0647-4c12-af4b-aa13f738bbd3               1\n",
       "2       251171183  c20b53ef-621c-407e-a895-940ca595d1c1               1\n",
       "3       269003139  29f24176-f471-4236-bbe8-6ca94d5ecfaf               1\n",
       "4       269597875  2073cf27-0b3f-41dc-8f75-5e1e689ba1a8               1\n",
       "...           ...                                   ...             ...\n",
       "344752  579944616  c4dfaee3-e939-49f5-bcc4-f8674841739a               1\n",
       "344753  579944655  f3521ead-f9d7-40dc-a6d5-75ffd8737789               1\n",
       "344754  579946501  4f2fb970-3328-471c-a074-956517ac809d               1\n",
       "344755  579957748  8d1e0711-1d15-40d6-9fa5-a660d168d95d               1\n",
       "344756  579962964  e4142ff0-90a2-4fd8-afc5-bec0ba471b03               1\n",
       "\n",
       "[341127 rows x 3 columns]"
      ]
     },
     "execution_count": 98,
     "metadata": {},
     "output_type": "execute_result"
    }
   ],
   "source": [
    "single_category"
   ]
  },
  {
   "cell_type": "code",
   "execution_count": 99,
   "id": "9ac3e5fa",
   "metadata": {},
   "outputs": [
    {
     "data": {
      "text/html": [
       "<div>\n",
       "<style scoped>\n",
       "    .dataframe tbody tr th:only-of-type {\n",
       "        vertical-align: middle;\n",
       "    }\n",
       "\n",
       "    .dataframe tbody tr th {\n",
       "        vertical-align: top;\n",
       "    }\n",
       "\n",
       "    .dataframe thead th {\n",
       "        text-align: right;\n",
       "    }\n",
       "</style>\n",
       "<table border=\"1\" class=\"dataframe\">\n",
       "  <thead>\n",
       "    <tr style=\"text-align: right;\">\n",
       "      <th></th>\n",
       "      <th>user_id</th>\n",
       "      <th>user_session</th>\n",
       "      <th>num_categories</th>\n",
       "      <th>_merge</th>\n",
       "    </tr>\n",
       "  </thead>\n",
       "  <tbody>\n",
       "    <tr>\n",
       "      <th>0</th>\n",
       "      <td>128968633</td>\n",
       "      <td>02cb7aa7-712e-49e9-aa86-e4368d1467ac</td>\n",
       "      <td>1</td>\n",
       "      <td>left_only</td>\n",
       "    </tr>\n",
       "    <tr>\n",
       "      <th>1</th>\n",
       "      <td>239198635</td>\n",
       "      <td>23014d2e-0647-4c12-af4b-aa13f738bbd3</td>\n",
       "      <td>1</td>\n",
       "      <td>left_only</td>\n",
       "    </tr>\n",
       "    <tr>\n",
       "      <th>2</th>\n",
       "      <td>251171183</td>\n",
       "      <td>c20b53ef-621c-407e-a895-940ca595d1c1</td>\n",
       "      <td>1</td>\n",
       "      <td>left_only</td>\n",
       "    </tr>\n",
       "    <tr>\n",
       "      <th>3</th>\n",
       "      <td>269003139</td>\n",
       "      <td>29f24176-f471-4236-bbe8-6ca94d5ecfaf</td>\n",
       "      <td>1</td>\n",
       "      <td>left_only</td>\n",
       "    </tr>\n",
       "    <tr>\n",
       "      <th>4</th>\n",
       "      <td>269597875</td>\n",
       "      <td>2073cf27-0b3f-41dc-8f75-5e1e689ba1a8</td>\n",
       "      <td>1</td>\n",
       "      <td>left_only</td>\n",
       "    </tr>\n",
       "    <tr>\n",
       "      <th>...</th>\n",
       "      <td>...</td>\n",
       "      <td>...</td>\n",
       "      <td>...</td>\n",
       "      <td>...</td>\n",
       "    </tr>\n",
       "    <tr>\n",
       "      <th>342624</th>\n",
       "      <td>579944616</td>\n",
       "      <td>c4dfaee3-e939-49f5-bcc4-f8674841739a</td>\n",
       "      <td>1</td>\n",
       "      <td>left_only</td>\n",
       "    </tr>\n",
       "    <tr>\n",
       "      <th>342625</th>\n",
       "      <td>579944655</td>\n",
       "      <td>f3521ead-f9d7-40dc-a6d5-75ffd8737789</td>\n",
       "      <td>1</td>\n",
       "      <td>left_only</td>\n",
       "    </tr>\n",
       "    <tr>\n",
       "      <th>342626</th>\n",
       "      <td>579946501</td>\n",
       "      <td>4f2fb970-3328-471c-a074-956517ac809d</td>\n",
       "      <td>1</td>\n",
       "      <td>left_only</td>\n",
       "    </tr>\n",
       "    <tr>\n",
       "      <th>342627</th>\n",
       "      <td>579957748</td>\n",
       "      <td>8d1e0711-1d15-40d6-9fa5-a660d168d95d</td>\n",
       "      <td>1</td>\n",
       "      <td>left_only</td>\n",
       "    </tr>\n",
       "    <tr>\n",
       "      <th>342628</th>\n",
       "      <td>579962964</td>\n",
       "      <td>e4142ff0-90a2-4fd8-afc5-bec0ba471b03</td>\n",
       "      <td>1</td>\n",
       "      <td>left_only</td>\n",
       "    </tr>\n",
       "  </tbody>\n",
       "</table>\n",
       "<p>342629 rows × 4 columns</p>\n",
       "</div>"
      ],
      "text/plain": [
       "          user_id                          user_session  num_categories  \\\n",
       "0       128968633  02cb7aa7-712e-49e9-aa86-e4368d1467ac               1   \n",
       "1       239198635  23014d2e-0647-4c12-af4b-aa13f738bbd3               1   \n",
       "2       251171183  c20b53ef-621c-407e-a895-940ca595d1c1               1   \n",
       "3       269003139  29f24176-f471-4236-bbe8-6ca94d5ecfaf               1   \n",
       "4       269597875  2073cf27-0b3f-41dc-8f75-5e1e689ba1a8               1   \n",
       "...           ...                                   ...             ...   \n",
       "342624  579944616  c4dfaee3-e939-49f5-bcc4-f8674841739a               1   \n",
       "342625  579944655  f3521ead-f9d7-40dc-a6d5-75ffd8737789               1   \n",
       "342626  579946501  4f2fb970-3328-471c-a074-956517ac809d               1   \n",
       "342627  579957748  8d1e0711-1d15-40d6-9fa5-a660d168d95d               1   \n",
       "342628  579962964  e4142ff0-90a2-4fd8-afc5-bec0ba471b03               1   \n",
       "\n",
       "           _merge  \n",
       "0       left_only  \n",
       "1       left_only  \n",
       "2       left_only  \n",
       "3       left_only  \n",
       "4       left_only  \n",
       "...           ...  \n",
       "342624  left_only  \n",
       "342625  left_only  \n",
       "342626  left_only  \n",
       "342627  left_only  \n",
       "342628  left_only  \n",
       "\n",
       "[342629 rows x 4 columns]"
      ]
     },
     "execution_count": 99,
     "metadata": {},
     "output_type": "execute_result"
    }
   ],
   "source": [
    "single_category_merged"
   ]
  },
  {
   "cell_type": "markdown",
   "id": "53ecdb99",
   "metadata": {},
   "source": [
    "В когортном анализе мы увидели, что 26,1% пользователей, добавляющих товары из одной категории, совершают покупки, в то время как у тех, кто добавляет товары из нескольких категорий, этот показатель значительно выше — 53,6%. Это говорит о том, что кросс-продажи работают!"
   ]
  },
  {
   "cell_type": "raw",
   "id": "b731ecf5",
   "metadata": {},
   "source": []
  },
  {
   "cell_type": "markdown",
   "id": "b207f04a",
   "metadata": {},
   "source": [
    "### 2. Сравнительный анализ: Гипотеза о частоте взаимодействия"
   ]
  },
  {
   "cell_type": "code",
   "execution_count": 85,
   "id": "5bde24ca",
   "metadata": {},
   "outputs": [
    {
     "name": "stdout",
     "output_type": "stream",
     "text": [
      "Конверсия для высокоактивных пользователей: 0.077420190705803\n",
      "Конверсия для низкоактивных пользователей: 0.0193255481049068\n",
      "t-stat: 193.14132948702655, p-value: 0.0\n"
     ]
    }
   ],
   "source": [
    "# Подсчет частоты взаимодействий для каждого пользователя\n",
    "user_activity = data.groupby('user_id')['event_type'].count().reset_index()\n",
    "user_activity.columns = ['user_id', 'activity_count']\n",
    "\n",
    "# Конверсия для пользователей\n",
    "purchases = data[data['event_type'] == 'purchase'].groupby('user_id')['event_type'].count().reset_index()\n",
    "purchases.columns = ['user_id', 'purchase_count']\n",
    "\n",
    "# Объединяем данные\n",
    "activity_conversion = user_activity.merge(purchases, on='user_id', how='left')\n",
    "activity_conversion['purchase_count'] = activity_conversion['purchase_count'].fillna(0)\n",
    "activity_conversion['converted'] = activity_conversion['purchase_count'] > 0\n",
    "\n",
    "# Разделяем пользователей на активных и менее активных (например, медиана)\n",
    "median_activity = activity_conversion['activity_count'].median()\n",
    "high_activity = activity_conversion[activity_conversion['activity_count'] > median_activity]\n",
    "low_activity = activity_conversion[activity_conversion['activity_count'] <= median_activity]\n",
    "\n",
    "# Конверсия для высоко- и низкоактивных пользователей\n",
    "high_conversion_rate = high_activity['converted'].mean()\n",
    "low_conversion_rate = low_activity['converted'].mean()\n",
    "\n",
    "# Статистическая проверка значимости разницы\n",
    "t_stat, p_value = stats.ttest_ind(high_activity['converted'], low_activity['converted'])\n",
    "\n",
    "# Вывод результатов\n",
    "print(f'Конверсия для высокоактивных пользователей: {high_conversion_rate}')\n",
    "print(f'Конверсия для низкоактивных пользователей: {low_conversion_rate}')\n",
    "print(f't-stat: {t_stat}, p-value: {p_value}')\n"
   ]
  },
  {
   "cell_type": "markdown",
   "id": "60847fbc",
   "metadata": {},
   "source": [
    "В сравнительном анализе мы обнаружили, что конверсия у высокоактивных пользователей составляет 7,74%, в то время как у менее активных — всего 1,93%. Это показывает, что активность пользователей напрямую связана с их покупательской способностью."
   ]
  },
  {
   "cell_type": "raw",
   "id": "a69fc2c8",
   "metadata": {},
   "source": []
  },
  {
   "cell_type": "markdown",
   "id": "fe55862e",
   "metadata": {},
   "source": [
    "### 3. Когортный анализ: Гипотеза о категориях товаров"
   ]
  },
  {
   "cell_type": "code",
   "execution_count": 86,
   "id": "4b17152e",
   "metadata": {},
   "outputs": [
    {
     "name": "stdout",
     "output_type": "stream",
     "text": [
      "                    category_code  purchase_count  total_interactions  \\\n",
      "109             kids.fmcg.diapers              90                3344   \n",
      "91         electronics.smartphone           38236             1633423   \n",
      "84    electronics.audio.headphone            4105              181397   \n",
      "119           stationery.cartrige              27                1325   \n",
      "39   appliances.kitchen.microwave             532               30820   \n",
      "..                            ...             ...                 ...   \n",
      "82        country_yard.lawn_mower               1                 675   \n",
      "21              apparel.underwear               6                4736   \n",
      "5                   apparel.dress              12                9509   \n",
      "17                  apparel.skirt               1                 871   \n",
      "81        country_yard.cultivator               1                 962   \n",
      "\n",
      "     conversion_rate  \n",
      "109         0.026914  \n",
      "91          0.023409  \n",
      "84          0.022630  \n",
      "119         0.020377  \n",
      "39          0.017262  \n",
      "..               ...  \n",
      "82          0.001481  \n",
      "21          0.001267  \n",
      "5           0.001262  \n",
      "17          0.001148  \n",
      "81          0.001040  \n",
      "\n",
      "[121 rows x 4 columns]\n"
     ]
    }
   ],
   "source": [
    "# Считаем количество покупок в каждой категории\n",
    "category_conversion = data[data['event_type'] == 'purchase'].groupby('category_code')['event_type'].count().reset_index()\n",
    "category_conversion.columns = ['category_code', 'purchase_count']\n",
    "\n",
    "# Общее количество взаимодействий с каждой категорией (добавления в корзину или просмотры)\n",
    "category_total = data.groupby('category_code')['event_type'].count().reset_index()\n",
    "category_total.columns = ['category_code', 'total_interactions']\n",
    "\n",
    "# Объединяем данные для расчета конверсии\n",
    "category_data = category_conversion.merge(category_total, on='category_code', how='left')\n",
    "category_data['conversion_rate'] = category_data['purchase_count'] / category_data['total_interactions']\n",
    "\n",
    "# Вывод категорий с наибольшей и наименьшей конверсией\n",
    "print(category_data.sort_values(by='conversion_rate', ascending=False))"
   ]
  },
  {
   "cell_type": "markdown",
   "id": "dfdd2cbd",
   "metadata": {},
   "source": [
    "Когортный анализ по категориям товаров показал, что наивысшая конверсия наблюдается у подгузников для детей (2,69%), а самая низкая — у садовой техники, как культиваторы (0,1%). Это подсказывает, что спрос на разные категории сильно варьируется."
   ]
  },
  {
   "cell_type": "raw",
   "id": "126ad7ad",
   "metadata": {},
   "source": []
  },
  {
   "cell_type": "markdown",
   "id": "90813eae",
   "metadata": {},
   "source": [
    "### 4. Сравнительный анализ: Гипотеза о возвращающихся пользователях"
   ]
  },
  {
   "cell_type": "code",
   "execution_count": 87,
   "id": "d78248d4",
   "metadata": {},
   "outputs": [
    {
     "name": "stdout",
     "output_type": "stream",
     "text": [
      "Конверсия новых пользователей: 0.022759195103567224\n",
      "Конверсия возвращающихся пользователей: 0.09510175041599259\n",
      "t-stat: -169.11924625777615, p-value: 0.0\n"
     ]
    }
   ],
   "source": [
    "# Определяем возвращающихся и новых пользователей по количеству уникальных дат посещения\n",
    "user_visits = data.groupby(['user_id', 'event_date']).size().reset_index().groupby('user_id').size().reset_index()\n",
    "user_visits.columns = ['user_id', 'visit_count']\n",
    "\n",
    "# Разделяем на новые (1 визит) и возвращающихся (больше 1 визита)\n",
    "new_users = user_visits[user_visits['visit_count'] == 1]\n",
    "returning_users = user_visits[user_visits['visit_count'] > 1]\n",
    "\n",
    "# Конверсия для новых и возвращающихся пользователей\n",
    "new_user_conversion = new_users.merge(purchases, on='user_id', how='left')['purchase_count'].fillna(0).mean()\n",
    "returning_user_conversion = returning_users.merge(purchases, on='user_id', how='left')['purchase_count'].fillna(0).mean()\n",
    "\n",
    "# Статистический тест\n",
    "t_stat, p_value = stats.ttest_ind(\n",
    "    new_users.merge(purchases, on='user_id', how='left')['purchase_count'].fillna(0),\n",
    "    returning_users.merge(purchases, on='user_id', how='left')['purchase_count'].fillna(0)\n",
    ")\n",
    "\n",
    "# Вывод результатов\n",
    "print(f'Конверсия новых пользователей: {new_user_conversion}')\n",
    "print(f'Конверсия возвращающихся пользователей: {returning_user_conversion}')\n",
    "print(f't-stat: {t_stat}, p-value: {p_value}')\n"
   ]
  },
  {
   "cell_type": "markdown",
   "id": "d81a3a46",
   "metadata": {},
   "source": [
    "В сравнительном анализе возвращающихся и новых пользователей конверсия у новых составляет 2,28%, а у возвращающихся — 9,51%. Это явное свидетельство того, что возвращающиеся пользователи гораздо чаще делают покупки."
   ]
  },
  {
   "cell_type": "markdown",
   "id": "89cdbeb4",
   "metadata": {},
   "source": [
    "# Шаг 5. Заключение и рекомендации"
   ]
  },
  {
   "cell_type": "markdown",
   "id": "16d31fac",
   "metadata": {},
   "source": [
    "В этом проекте мы провели анализ поведения пользователей в интернет-магазине, чтобы понять, как они взаимодействуют с товарами и совершают покупки. В процессе мы изучили несколько ключевых аспектов:\n",
    "\n",
    "Оказалось, что пользователи, которые добавляют товары из нескольких категорий, чаще совершают покупки по сравнению с теми, кто выбирает товары только из одной категории. Это может говорить о том, что интерес к разным товарам увеличивает вероятность покупки.\n",
    "\n",
    "Возвращающиеся пользователи показали гораздо более высокую конверсию, чем новые. Например, конверсия среди вернувшихся составляет около 9,5%, в то время как у новых пользователей — всего 2,3%. Это явно говорит о том, что работа с уже вернувшимися клиентами может быть очень эффективной.\n",
    "\n",
    "Что касается рекомендаций, имеет смысл больше внимания уделять тем, кто добавляет товары из разных категорий. Можно попробовать предложить им какие-то персонализированные скидки или акции. Также важно поработать над удержанием клиентов — программы лояльности, скидки для постоянных покупателей или продуманные рассылки могут помочь в этом. Ну и для новых пользователей стоит сделать первый опыт покупки более привлекательным, например, через приветственные предложения или бонусы."
   ]
  },
  {
   "cell_type": "code",
   "execution_count": null,
   "id": "6a87e7c8",
   "metadata": {},
   "outputs": [],
   "source": []
  }
 ],
 "metadata": {
  "kernelspec": {
   "display_name": "Python 3 (ipykernel)",
   "language": "python",
   "name": "python3"
  },
  "language_info": {
   "codemirror_mode": {
    "name": "ipython",
    "version": 3
   },
   "file_extension": ".py",
   "mimetype": "text/x-python",
   "name": "python",
   "nbconvert_exporter": "python",
   "pygments_lexer": "ipython3",
   "version": "3.11.5"
  }
 },
 "nbformat": 4,
 "nbformat_minor": 5
}
